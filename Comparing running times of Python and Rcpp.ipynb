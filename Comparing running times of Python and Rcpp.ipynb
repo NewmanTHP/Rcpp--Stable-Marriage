{
 "cells": [
  {
   "cell_type": "markdown",
   "id": "5e24af5d",
   "metadata": {},
   "source": [
    "# Task 2"
   ]
  },
  {
   "cell_type": "markdown",
   "id": "ec5e9023",
   "metadata": {},
   "source": [
    "#### Compare the run times of your Rcpp version of the \"fundamental algorithm\" with the runtimes of the Python implementation you created for the assessment in STOR-601 \"Introductory Python\"."
   ]
  },
  {
   "cell_type": "markdown",
   "id": "0dcc9b12",
   "metadata": {},
   "source": [
    "### A) Python implementation"
   ]
  },
  {
   "cell_type": "code",
   "execution_count": 5,
   "id": "84f92e7e",
   "metadata": {},
   "outputs": [],
   "source": [
    "import numpy as np\n",
    "import math\n",
    "from itertools import combinations\n",
    "import random\n",
    "import string\n",
    "import pandas as pd\n",
    "import time\n"
   ]
  },
  {
   "cell_type": "code",
   "execution_count": 6,
   "id": "d312c03c",
   "metadata": {},
   "outputs": [
    {
     "data": {
      "text/plain": [
       "{'A': ['c', 'b', 'd', 'a'],\n",
       " 'B': ['b', 'a', 'c', 'd'],\n",
       " 'C': ['b', 'd', 'a', 'c'],\n",
       " 'D': ['c', 'a', 'd', 'b']}"
      ]
     },
     "metadata": {},
     "output_type": "display_data"
    },
    {
     "data": {
      "text/html": [
       "<div>\n",
       "<style scoped>\n",
       "    .dataframe tbody tr th:only-of-type {\n",
       "        vertical-align: middle;\n",
       "    }\n",
       "\n",
       "    .dataframe tbody tr th {\n",
       "        vertical-align: top;\n",
       "    }\n",
       "\n",
       "    .dataframe thead th {\n",
       "        text-align: right;\n",
       "    }\n",
       "</style>\n",
       "<table border=\"1\" class=\"dataframe\">\n",
       "  <thead>\n",
       "    <tr style=\"text-align: right;\">\n",
       "      <th></th>\n",
       "      <th>1st</th>\n",
       "      <th>2nd</th>\n",
       "      <th>3rd</th>\n",
       "      <th>4th</th>\n",
       "      <th>Omega</th>\n",
       "    </tr>\n",
       "    <tr>\n",
       "      <th>ID</th>\n",
       "      <th></th>\n",
       "      <th></th>\n",
       "      <th></th>\n",
       "      <th></th>\n",
       "      <th></th>\n",
       "    </tr>\n",
       "  </thead>\n",
       "  <tbody>\n",
       "    <tr>\n",
       "      <th>a</th>\n",
       "      <td>A</td>\n",
       "      <td>B</td>\n",
       "      <td>D</td>\n",
       "      <td>C</td>\n",
       "      <td>Om</td>\n",
       "    </tr>\n",
       "    <tr>\n",
       "      <th>b</th>\n",
       "      <td>C</td>\n",
       "      <td>A</td>\n",
       "      <td>D</td>\n",
       "      <td>B</td>\n",
       "      <td>Om</td>\n",
       "    </tr>\n",
       "    <tr>\n",
       "      <th>c</th>\n",
       "      <td>C</td>\n",
       "      <td>B</td>\n",
       "      <td>D</td>\n",
       "      <td>A</td>\n",
       "      <td>Om</td>\n",
       "    </tr>\n",
       "    <tr>\n",
       "      <th>d</th>\n",
       "      <td>B</td>\n",
       "      <td>A</td>\n",
       "      <td>C</td>\n",
       "      <td>D</td>\n",
       "      <td>Om</td>\n",
       "    </tr>\n",
       "  </tbody>\n",
       "</table>\n",
       "</div>"
      ],
      "text/plain": [
       "   1st 2nd 3rd 4th Omega\n",
       "ID                      \n",
       "a    A   B   D   C    Om\n",
       "b    C   A   D   B    Om\n",
       "c    C   B   D   A    Om\n",
       "d    B   A   C   D    Om"
      ]
     },
     "metadata": {},
     "output_type": "display_data"
    }
   ],
   "source": [
    "ex_male ={'A':['c', 'b', 'd', 'a'], 'B':['b', 'a', 'c', 'd'], \n",
    "                        'C':['b', 'd', 'a', 'c'], 'D':['c', 'a', 'd', 'b']}\n",
    "ex_female = pd.DataFrame({'1st':['A', 'C', 'C', 'B'], '2nd':['B', 'A', 'B', 'A'], \n",
    "                        '3rd':['D', 'D', 'D', 'C'], '4th':['C', 'B', 'A', 'D'], 'Omega':['Om', 'Om', 'Om', 'Om'], 'ID':['a', 'b', 'c', 'd'] })\n",
    "\n",
    "ex_female = ex_female.set_index('ID')\n",
    "display(ex_male, ex_female)"
   ]
  },
  {
   "cell_type": "code",
   "execution_count": 7,
   "id": "84649974",
   "metadata": {},
   "outputs": [],
   "source": [
    "def finding_stable_matching(ex_male, ex_female):\n",
    "    list_male = list(ex_male.keys())\n",
    "    k=0                         # initialising the number of couples formed\n",
    "    n=len(list_male)            # number of men = number of women\n",
    "    omega = 'Om'                 # the very undesirable men\n",
    "    matching = [(omega, 'a'), (omega, 'b'), (omega, 'c'), (omega, 'd')]\n",
    "    while (k<n):\n",
    "        X = list_male[k]        # the current suitor\n",
    "        while (X!=omega):       \n",
    "            x = ex_male[X][0]     # prefered choice on current male's list   \n",
    "            x_couple = [element for element in matching if element[1] == x] # couple of current male's prefered choice\n",
    "            x_fiance =  x_couple[0][0]                                      # male with whom current male's prefered choice is coupled currently\n",
    "            list_of_x_choice = ex_female.iloc[ex_female.index.get_loc(x)].tolist()  # obtain a list of preference for current male's preferred choice\n",
    "            current_male_position_in_x = list_of_x_choice.index(X)\n",
    "            current_partner_position_in_x = list_of_x_choice.index(x_fiance)\n",
    "            if (current_male_position_in_x < current_partner_position_in_x):\n",
    "                x_couple_list = list(x_couple[0])\n",
    "                x_couple_list[0] = X\n",
    "                x_couple = tuple(x_couple_list)\n",
    "                matching = [x_couple if e[1] == x_couple[1] else e for e in matching]\n",
    "                X = x_fiance\n",
    "\n",
    "            if (X!=omega):\n",
    "                ex_male[X].remove(x)\n",
    "        k = k+1\n",
    "\n",
    "    return(matching)"
   ]
  },
  {
   "cell_type": "code",
   "execution_count": 9,
   "id": "e5c1cc17",
   "metadata": {},
   "outputs": [
    {
     "data": {
      "text/plain": [
       "'Running time (seconds)'"
      ]
     },
     "metadata": {},
     "output_type": "display_data"
    },
    {
     "data": {
      "text/plain": [
       "0.0009322380647063255"
      ]
     },
     "metadata": {},
     "output_type": "display_data"
    }
   ],
   "source": [
    "start = time.perf_counter()\n",
    "finding_stable_matching(ex_male, ex_female)\n",
    "end = time.perf_counter() \n",
    "display(\"Running time (seconds)\",end-start)"
   ]
  },
  {
   "cell_type": "markdown",
   "id": "4fdeeb3c",
   "metadata": {},
   "source": [
    "### B) Rcpp implementation"
   ]
  },
  {
   "attachments": {
    "RCpptimes.PNG": {
     "image/png": "[encoded data removed]"
    }
   },
   "cell_type": "markdown",
   "id": "f4aad457",
   "metadata": {},
   "source": [
    "![RCpptimes.PNG](attachment:RCpptimes.PNG)"
   ]
  },
  {
   "cell_type": "markdown",
   "id": "a7e5734e",
   "metadata": {},
   "source": [
    "### C) Comparing running times"
   ]
  },
  {
   "cell_type": "markdown",
   "id": "5c5ed4ff",
   "metadata": {},
   "source": [
    "The Rcpp implementation of the stable marriage problem was 1.5 times slower than the Python version. However, this was only run for a preferance table of size 4. This is a major limitation and we cannot make any conclusion about the speed of both algorithms. Many results in the literature comparing both implementations conclude that Rcpp is faster. An explanation of Rcpp running slower might be that there exist a fix cost associated with the communication of C++ and R. Therefore, on small scale examples this fix cost represente the majority of the total cost, explaining why Rcpp is slower. Hence, Rcpp is expected to run faster for larger preference tables. Additionally, the difference in computing time is also expected to increase as the size of the table increases."
   ]
  },
  {
   "cell_type": "markdown",
   "id": "37cd3096",
   "metadata": {},
   "source": [
    "# Task 3"
   ]
  },
  {
   "cell_type": "markdown",
   "id": "c3981090",
   "metadata": {},
   "source": [
    "#### For each of the 5Rs discussed in Benureau and Rougier, score on a scale of 0 to 5:"
   ]
  },
  {
   "cell_type": "markdown",
   "id": "911d31cc",
   "metadata": {},
   "source": [
    "## A) Python implementation of the \"fundamental algorithm\" from STOR-601 \"Introductory Python\""
   ]
  },
  {
   "cell_type": "markdown",
   "id": "bb9249eb",
   "metadata": {},
   "source": [
    "### Re-runnable (R1) : 4/5\n",
    "To the best of my belief, re-runnability is well respected. The only reason why 1 point was deducted was due to python functions and packages versions were not indicated."
   ]
  },
  {
   "cell_type": "markdown",
   "id": "b8e5cbd8",
   "metadata": {},
   "source": [
    "### Repeatable (R2) : 5/5\n",
    "\n",
    "The code ensured that when it is re-run it produces the same results. This can be achieved by setting seeds, which needs to be done after testing a couple different seeds to ensure the one chosen isn't producing results that are very rare cases of what we want to produce. This was done throughout this project, where appropriate.\n",
    "\n",
    "Additionally, produced data can be saved in a file and checked to ensure we obtain the same data after repeating the project. However, this was not necessary here.\n"
   ]
  },
  {
   "cell_type": "markdown",
   "id": "bb360245",
   "metadata": {},
   "source": [
    "### Reproducible (R3) : 3/5\n",
    "The underlying issue here is that the sequence of numbers produced by setting seeds might change from version to version. Therefore, we risk obtaining different results even if we are using the same code, with the same seeds. This issue is also true for functions, used in the code. Therefore, there should be some indication as to what version of python was used, what version of packages etc... One way to deal with the seed issue is to save the sequence used from the settled seed and then the next person using our code can check if the seed is producing the same sequence of numbers. We can check ourselves for this using Unit testing. More could have been done in this code to reflect these principles of reproducibility."
   ]
  },
  {
   "cell_type": "markdown",
   "id": "5c38a6fa",
   "metadata": {},
   "source": [
    "### Reusable (R4) : 4.567282/5\n",
    "This focuses on making our code easy to use for ourselves in the future and other people. Annotations about the decisions that were made while writing this code gives an insight as to what I was thinking while writing it. This helps understanding the code and explain why certain decisions were made. Making it much easier for anyone to use my code. Another aspect of reusability is about sharing my code. Uploading it to GitHub for example enables other people to access it easily and might even have the additional benefit of someone spotting a mistake in my work. Finally, another easy way to make our code reusable is by avoiding \"magic numbers\", this was applied throughout this project."
   ]
  },
  {
   "cell_type": "markdown",
   "id": "ea8a28dc",
   "metadata": {},
   "source": [
    "### Replicable (R5) : 4.2/5\n",
    "\n",
    "This is more about the article or description that supports the code and project. The idea is that we want to ensure that what we are doing is very clear. All the little details that might seem too much, might actually ensure that if someone reads the description alone, they can write their own code and produce the same results. Descriptions are provided within my code, however, no supporting documentation was written. This can be seen as overkill for such a simple project and therefore only 0.8 of a point was deducted.\n"
   ]
  },
  {
   "cell_type": "markdown",
   "id": "d381bcaa",
   "metadata": {},
   "source": [
    "##  B) C++ implementation of the \"fundamental algorithm\" from STOR-601 \"C++ for Python Programmers\""
   ]
  },
  {
   "cell_type": "markdown",
   "id": "16ea1307",
   "metadata": {},
   "source": [
    "### Re-runnable (R1) : 5/5\n",
    "C++ minimises the use of functions, by requiring either to define them within the code or by not using any. This makes this code fully re-runnable given the correct version of c++."
   ]
  },
  {
   "cell_type": "markdown",
   "id": "eb94407e",
   "metadata": {},
   "source": [
    "### Repeatable (R2) : 5/5 \n",
    "The code doesn't leave any space for potentially obtaining different results. The variable types, function types, inputs, outputs, etc... are all predefined. Making sure the results are repeatable."
   ]
  },
  {
   "cell_type": "markdown",
   "id": "27da74fb",
   "metadata": {},
   "source": [
    "### Reproducible (R3) : 4/5 \n",
    "Running the code using a different version of c++ (not c++17) is potentially the only issue here. "
   ]
  },
  {
   "cell_type": "markdown",
   "id": "bb91d30f",
   "metadata": {},
   "source": [
    "### Reusable (R4) : 5/5\n",
    "C++ requires to define everything very explicitly. This ensures no grey areas of potential misinterpretation for someone reading the code."
   ]
  },
  {
   "cell_type": "markdown",
   "id": "33887604",
   "metadata": {},
   "source": [
    "### Replicable (R5) : 4.2/5\n",
    "The logic is the same as for the replicability of the Python code. However, c++ code isn't as easy to read/understand."
   ]
  },
  {
   "cell_type": "markdown",
   "id": "2ab2c39c",
   "metadata": {},
   "source": [
    "## C) R package implementation of the \"fundamental algorithm\" from Task 1 of this assessment"
   ]
  },
  {
   "cell_type": "markdown",
   "id": "96910618",
   "metadata": {},
   "source": [
    "### Re-runnable (R1) : 5/5\n",
    "C++ minimises the use of functions, by requiring either to define them within the code or by not using any. This makes this code fully re-runnable given the correct version of c++. Additionally, the R package can be updated and users can download the new version from Github."
   ]
  },
  {
   "cell_type": "markdown",
   "id": "e8662a8e",
   "metadata": {},
   "source": [
    "### Repeatable (R2) : 5/5\n",
    "The code doesn't leave any space for potentially obtaining different results. The variable types, function types, inputs, outputs, etc... are all predefined. Making sure the results are repeatable."
   ]
  },
  {
   "cell_type": "markdown",
   "id": "fd5b4556",
   "metadata": {},
   "source": [
    "### Reproducible (R3) : 4/5 \n",
    "Running the code using a different version of c++ (not c++17) is potentially the only issue here. "
   ]
  },
  {
   "cell_type": "markdown",
   "id": "4d256b0c",
   "metadata": {},
   "source": [
    "### Reusable (R4) : 5/5\n",
    "C++ requires to define everything very explicitly. This ensures no grey areas of potential misinterpretation for someone reading the code."
   ]
  },
  {
   "cell_type": "markdown",
   "id": "0043d8e6",
   "metadata": {},
   "source": [
    "### Replicable (R5) : 4/5\n",
    "The logic is the same as for th replicability of the Python code. However, c++ code isn't as easy to read/understand. Additionally, there is the difficulty of understanding the interface of R and c++. "
   ]
  },
  {
   "cell_type": "code",
   "execution_count": null,
   "id": "416489bd",
   "metadata": {},
   "outputs": [],
   "source": []
  }
 ],
 "metadata": {
  "kernelspec": {
   "display_name": "Python 3 (ipykernel)",
   "language": "python",
   "name": "python3"
  },
  "language_info": {
   "codemirror_mode": {
    "name": "ipython",
    "version": 3
   },
   "file_extension": ".py",
   "mimetype": "text/x-python",
   "name": "python",
   "nbconvert_exporter": "python",
   "pygments_lexer": "ipython3",
   "version": "3.9.10"
  }
 },
 "nbformat": 4,
 "nbformat_minor": 5
}
